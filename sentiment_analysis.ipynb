{
 "cells": [
  {
   "cell_type": "code",
   "execution_count": 2,
   "id": "41d1a951-40b8-455f-b254-accd421e2b20",
   "metadata": {},
   "outputs": [
    {
     "name": "stdout",
     "output_type": "stream",
     "text": [
      "\n",
      "REVIEW:\n",
      "Contrary to other reviews, I have zero complaints about the service or the prices. I have been getting tire service here for the past 5 years now, and compared to my experience with places like Pep Boys, these guys are experienced and know what they're doing. \\nAlso, this is one place that I do not feel like I am being taken advantage of, just because of my gender. Other auto mechanics have been notorious for capitalizing on my ignorance of cars, and have sucked my bank account dry. But here, my service and road coverage has all been well explained - and let up to me to decide. \\nAnd they just renovated the waiting room. It looks a lot better than it did in previous years.\n",
      "\n",
      "REVIEW:\n",
      "Last summer I had an appointment to get new tires and had to wait a super long time. I also went in this week for them to fix a minor problem with a tire they put on. They \\\"\"fixed\\\"\" it for free, and the very next morning I had the same issue. I called to complain, and the \\\"\"manager\\\"\" didn't even apologize!!! So frustrated. Never going back.  They seem overpriced, too.\n",
      "\n",
      "REVIEW:\n",
      "Friendly staff, same starbucks fair you get anywhere else.  Sometimes the lines can get long.\n",
      "\n",
      "REVIEW:\n",
      "The food is good. Unfortunately the service is very hit or miss. The main issue seems to be with the kitchen, the waiters and waitresses are often very apologetic for the long waits and it's pretty obvious that some of them avoid the tables after taking the initial order to avoid hearing complaints.\n",
      "\n",
      "REVIEW:\n",
      "Even when we didn't have a car Filene's Basement was worth the bus trip to the Waterfront. I always find something (usually I find 3-4 things and spend about $60) and better still, I am always still wearing the clothes and shoes 3 months later. \\n\\nI kind of suspect this is the best shopping in Pittsburgh; it's much better than the usual department stores, better than Marshall's and TJ Maxx and better than the Saks downtown, even when it has a sale. Selection, bargains AND quality.\\n\\nI like this Filene's better than Gabriel Brothers, which are harder to get to. Gabriel Brothers are a real discount shopper's challenge and I'm afraid I didn't live in Pittsburgh long enough to develop the necessary skills . . . Filene's was still up and running in June 2007 when I left town.\n"
     ]
    }
   ],
   "source": [
    "\n",
    "!pip install transformers datasets --quiet\n",
    "from transformers import pipeline\n",
    "from datasets import load_dataset\n",
    "\n",
    "# sample dataset (Yelp polarity reviews)\n",
    "dataset = load_dataset(\"yelp_polarity\", split=\"test[:5]\")  # Just 5 reviews to test\n",
    "\n",
    "# View a sample review\n",
    "for example in dataset:\n",
    "    print(\"\\nREVIEW:\")\n",
    "    print(example['text'])\n"
   ]
  },
  {
   "cell_type": "code",
   "execution_count": 4,
   "id": "a5c1d00c-6332-4ad6-bc95-8156b03bd394",
   "metadata": {},
   "outputs": [
    {
     "name": "stderr",
     "output_type": "stream",
     "text": [
      "No model was supplied, defaulted to distilbert-base-uncased-finetuned-sst-2-english and revision af0f99b (https://huggingface.co/distilbert-base-uncased-finetuned-sst-2-english).\n",
      "Using a pipeline without specifying a model name and revision in production is not recommended.\n"
     ]
    },
    {
     "name": "stdout",
     "output_type": "stream",
     "text": [
      "\n",
      "PREDICTIONS:\n",
      "Sentiment: NEGATIVE | Confidence: 0.993\n",
      "Sentiment: NEGATIVE | Confidence: 0.998\n",
      "Sentiment: NEGATIVE | Confidence: 0.992\n",
      "Sentiment: NEGATIVE | Confidence: 0.999\n",
      "Sentiment: POSITIVE | Confidence: 0.999\n"
     ]
    }
   ],
   "source": [
    "classifier = pipeline(\"sentiment-analysis\")\n",
    "print(\"\\nPREDICTIONS:\")\n",
    "for example in dataset:\n",
    "    result = classifier(example['text'])[0]\n",
    "    print(f\"Sentiment: {result['label']} | Confidence: {round(result['score'], 3)}\")\n"
   ]
  },
  {
   "cell_type": "code",
   "execution_count": 5,
   "id": "a6a80512-2679-4cd3-8187-68d9d0ee258d",
   "metadata": {},
   "outputs": [],
   "source": [
    "# more test data ( 100 samples )\n",
    "dataset = load_dataset(\"yelp_polarity\", split=\"test[:100]\")\n",
    "\n",
    "# pandas DataFrame for easier analysis\n",
    "import pandas as pd\n",
    "\n",
    "texts = [example['text'] for example in dataset]\n",
    "true_labels = [example['label'] for example in dataset]  # 1 = POSITIVE, 0 = NEGATIVE\n",
    "\n",
    "df = pd.DataFrame({'text': texts, 'true_label': true_labels})\n",
    "df['true_label'] = df['true_label'].map({1: 'POSITIVE', 0: 'NEGATIVE'})\n"
   ]
  },
  {
   "cell_type": "code",
   "execution_count": 7,
   "id": "c4cb106a-a159-44ca-8bf7-ff2363b28c3d",
   "metadata": {},
   "outputs": [
    {
     "name": "stderr",
     "output_type": "stream",
     "text": [
      "No model was supplied, defaulted to distilbert-base-uncased-finetuned-sst-2-english and revision af0f99b (https://huggingface.co/distilbert-base-uncased-finetuned-sst-2-english).\n",
      "Using a pipeline without specifying a model name and revision in production is not recommended.\n"
     ]
    },
    {
     "data": {
      "text/html": [
       "<div>\n",
       "<style scoped>\n",
       "    .dataframe tbody tr th:only-of-type {\n",
       "        vertical-align: middle;\n",
       "    }\n",
       "\n",
       "    .dataframe tbody tr th {\n",
       "        vertical-align: top;\n",
       "    }\n",
       "\n",
       "    .dataframe thead th {\n",
       "        text-align: right;\n",
       "    }\n",
       "</style>\n",
       "<table border=\"1\" class=\"dataframe\">\n",
       "  <thead>\n",
       "    <tr style=\"text-align: right;\">\n",
       "      <th></th>\n",
       "      <th>text</th>\n",
       "      <th>true_label</th>\n",
       "      <th>predicted_label</th>\n",
       "    </tr>\n",
       "  </thead>\n",
       "  <tbody>\n",
       "    <tr>\n",
       "      <th>0</th>\n",
       "      <td>Contrary to other reviews, I have zero complai...</td>\n",
       "      <td>POSITIVE</td>\n",
       "      <td>NEGATIVE</td>\n",
       "    </tr>\n",
       "    <tr>\n",
       "      <th>1</th>\n",
       "      <td>Last summer I had an appointment to get new ti...</td>\n",
       "      <td>NEGATIVE</td>\n",
       "      <td>NEGATIVE</td>\n",
       "    </tr>\n",
       "    <tr>\n",
       "      <th>2</th>\n",
       "      <td>Friendly staff, same starbucks fair you get an...</td>\n",
       "      <td>POSITIVE</td>\n",
       "      <td>NEGATIVE</td>\n",
       "    </tr>\n",
       "    <tr>\n",
       "      <th>3</th>\n",
       "      <td>The food is good. Unfortunately the service is...</td>\n",
       "      <td>NEGATIVE</td>\n",
       "      <td>NEGATIVE</td>\n",
       "    </tr>\n",
       "    <tr>\n",
       "      <th>4</th>\n",
       "      <td>Even when we didn't have a car Filene's Baseme...</td>\n",
       "      <td>POSITIVE</td>\n",
       "      <td>POSITIVE</td>\n",
       "    </tr>\n",
       "  </tbody>\n",
       "</table>\n",
       "</div>"
      ],
      "text/plain": [
       "                                                text true_label  \\\n",
       "0  Contrary to other reviews, I have zero complai...   POSITIVE   \n",
       "1  Last summer I had an appointment to get new ti...   NEGATIVE   \n",
       "2  Friendly staff, same starbucks fair you get an...   POSITIVE   \n",
       "3  The food is good. Unfortunately the service is...   NEGATIVE   \n",
       "4  Even when we didn't have a car Filene's Baseme...   POSITIVE   \n",
       "\n",
       "  predicted_label  \n",
       "0        NEGATIVE  \n",
       "1        NEGATIVE  \n",
       "2        NEGATIVE  \n",
       "3        NEGATIVE  \n",
       "4        POSITIVE  "
      ]
     },
     "execution_count": 7,
     "metadata": {},
     "output_type": "execute_result"
    }
   ],
   "source": [
    "\n",
    "from transformers import pipeline\n",
    "classifier = pipeline(\"sentiment-analysis\", truncation=True)\n",
    "\n",
    "predictions = []\n",
    "for text in df['text']:\n",
    "    pred = classifier(text)[0]\n",
    "    predictions.append(pred['label'])\n",
    "\n",
    "df['predicted_label'] = predictions\n",
    "df.head()\n"
   ]
  },
  {
   "cell_type": "code",
   "execution_count": 8,
   "id": "4f00e8de-6e99-4a56-8e96-f86c52724aab",
   "metadata": {},
   "outputs": [
    {
     "name": "stderr",
     "output_type": "stream",
     "text": [
      "huggingface/tokenizers: The current process just got forked, after parallelism has already been used. Disabling parallelism to avoid deadlocks...\n",
      "To disable this warning, you can either:\n",
      "\t- Avoid using `tokenizers` before the fork if possible\n",
      "\t- Explicitly set the environment variable TOKENIZERS_PARALLELISM=(true | false)\n"
     ]
    },
    {
     "name": "stdout",
     "output_type": "stream",
     "text": [
      "Accuracy: 85.0%\n",
      "\n",
      "Classification Report:\n",
      "\n",
      "              precision    recall  f1-score   support\n",
      "\n",
      "    NEGATIVE       0.81      0.90      0.85        48\n",
      "    POSITIVE       0.89      0.81      0.85        52\n",
      "\n",
      "    accuracy                           0.85       100\n",
      "   macro avg       0.85      0.85      0.85       100\n",
      "weighted avg       0.85      0.85      0.85       100\n",
      "\n"
     ]
    },
    {
     "data": {
      "image/png": "[encoded data removed]",
      "text/plain": [
       "<Figure size 600x400 with 2 Axes>"
      ]
     },
     "metadata": {},
     "output_type": "display_data"
    }
   ],
   "source": [
    "from sklearn.metrics import accuracy_score, classification_report, confusion_matrix\n",
    "import seaborn as sns\n",
    "import matplotlib.pyplot as plt\n",
    "\n",
    "# Accuracy\n",
    "accuracy = accuracy_score(df['true_label'], df['predicted_label'])\n",
    "print(f\"Accuracy: {round(accuracy * 100, 2)}%\")\n",
    "\n",
    "# Classification report\n",
    "print(\"\\nClassification Report:\\n\")\n",
    "print(classification_report(df['true_label'], df['predicted_label']))\n",
    "\n",
    "# Confusion Matrix\n",
    "cm = confusion_matrix(df['true_label'], df['predicted_label'], labels=[\"POSITIVE\", \"NEGATIVE\"])\n",
    "\n",
    "# Plot\n",
    "plt.figure(figsize=(6, 4))\n",
    "sns.heatmap(cm, annot=True, fmt='d', cmap='Blues', xticklabels=[\"POSITIVE\", \"NEGATIVE\"], yticklabels=[\"POSITIVE\", \"NEGATIVE\"])\n",
    "plt.xlabel(\"Predicted\")\n",
    "plt.ylabel(\"Actual\")\n",
    "plt.title(\"Confusion Matrix\")\n",
    "plt.show()\n"
   ]
  },
  {
   "cell_type": "code",
   "execution_count": null,
   "id": "a4fd4fdd-0991-450a-b710-60ff3b0ad73a",
   "metadata": {},
   "outputs": [],
   "source": []
  }
 ],
 "metadata": {
  "kernelspec": {
   "display_name": "Python 3 (ipykernel)",
   "language": "python",
   "name": "python3"
  },
  "language_info": {
   "codemirror_mode": {
    "name": "ipython",
    "version": 3
   },
   "file_extension": ".py",
   "mimetype": "text/x-python",
   "name": "python",
   "nbconvert_exporter": "python",
   "pygments_lexer": "ipython3",
   "version": "3.12.2"
  }
 },
 "nbformat": 4,
 "nbformat_minor": 5
}
